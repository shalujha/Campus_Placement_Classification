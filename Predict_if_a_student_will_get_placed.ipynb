{
  "nbformat": 4,
  "nbformat_minor": 0,
  "metadata": {
    "colab": {
      "name": "Predict_if_a_student_will_get_placed.ipynb",
      "provenance": []
    },
    "kernelspec": {
      "name": "python3",
      "display_name": "Python 3"
    }
  },
  "cells": [
    {
      "cell_type": "code",
      "metadata": {
        "id": "pH045wzx2Tin",
        "colab_type": "code",
        "colab": {
          "base_uri": "https://localhost:8080/",
          "height": 474
        },
        "outputId": "2edd0dd2-b138-41f6-9963-2a409b233322"
      },
      "source": [
        "!wget https://www.dropbox.com/s/jvy39twpx6ekmij/596958_1073629_bundle_archive.zip?dl=0"
      ],
      "execution_count": 1,
      "outputs": [
        {
          "output_type": "stream",
          "text": [
            "--2020-08-17 21:02:50--  https://www.dropbox.com/s/jvy39twpx6ekmij/596958_1073629_bundle_archive.zip?dl=0\n",
            "Resolving www.dropbox.com (www.dropbox.com)... 162.125.82.1, 2620:100:6032:1::a27d:5201\n",
            "Connecting to www.dropbox.com (www.dropbox.com)|162.125.82.1|:443... connected.\n",
            "HTTP request sent, awaiting response... 301 Moved Permanently\n",
            "Location: /s/raw/jvy39twpx6ekmij/596958_1073629_bundle_archive.zip [following]\n",
            "--2020-08-17 21:02:50--  https://www.dropbox.com/s/raw/jvy39twpx6ekmij/596958_1073629_bundle_archive.zip\n",
            "Reusing existing connection to www.dropbox.com:443.\n",
            "HTTP request sent, awaiting response... 302 Found\n",
            "Location: https://uc9f1d218ab21e58c69956b05746.dl.dropboxusercontent.com/cd/0/inline/A9qfra591kr1HgTpeMRq1OA8FhZTPjgkTBRcXGxnypD-Pl0RFCPAiqkKbwrvdgr9Jx2KYh3ksYsogU1gJQCqjGs8-D2ee4QLtx7qxtgoau8acfxcfREXpAJLAm23hxvMcP8/file# [following]\n",
            "--2020-08-17 21:02:50--  https://uc9f1d218ab21e58c69956b05746.dl.dropboxusercontent.com/cd/0/inline/A9qfra591kr1HgTpeMRq1OA8FhZTPjgkTBRcXGxnypD-Pl0RFCPAiqkKbwrvdgr9Jx2KYh3ksYsogU1gJQCqjGs8-D2ee4QLtx7qxtgoau8acfxcfREXpAJLAm23hxvMcP8/file\n",
            "Resolving uc9f1d218ab21e58c69956b05746.dl.dropboxusercontent.com (uc9f1d218ab21e58c69956b05746.dl.dropboxusercontent.com)... 162.125.82.15, 2620:100:6032:15::a27d:520f\n",
            "Connecting to uc9f1d218ab21e58c69956b05746.dl.dropboxusercontent.com (uc9f1d218ab21e58c69956b05746.dl.dropboxusercontent.com)|162.125.82.15|:443... connected.\n",
            "HTTP request sent, awaiting response... 302 Found\n",
            "Location: /cd/0/inline2/A9pP0CBXPVPyzYdspx28x9Uwj0mQOlXSTXWPvjY0R_iFJ0hrTFGo_r78hsr24gAsHQ5ygAmu-Z55boSsVLh3jfMSEBdzHVrj86pgzq-29ueKW8NupFLbC47OTTtpCfafB6eoc2LcPpaEx8UxUoDNbHjHWNyPztM4uJm0A2Iq76YRUmoNMIJy2pPBK61nWhfowX-74H39AE_vdfjh7mJIpDelJ5Z-a1I0fO1LRcTYkJXduS8zLeh2rO43GO_EyPppNkEWpKqsiitHaxll-8GMCfjrbVmvsDo31TD2Vb5ToSdm2eiX8w7-VKNtwgUpeLuxfDQForcJ0EnuwqMSXIRNo0G3AgAiGrOn7H2RHmJXbrNkFA/file [following]\n",
            "--2020-08-17 21:02:51--  https://uc9f1d218ab21e58c69956b05746.dl.dropboxusercontent.com/cd/0/inline2/A9pP0CBXPVPyzYdspx28x9Uwj0mQOlXSTXWPvjY0R_iFJ0hrTFGo_r78hsr24gAsHQ5ygAmu-Z55boSsVLh3jfMSEBdzHVrj86pgzq-29ueKW8NupFLbC47OTTtpCfafB6eoc2LcPpaEx8UxUoDNbHjHWNyPztM4uJm0A2Iq76YRUmoNMIJy2pPBK61nWhfowX-74H39AE_vdfjh7mJIpDelJ5Z-a1I0fO1LRcTYkJXduS8zLeh2rO43GO_EyPppNkEWpKqsiitHaxll-8GMCfjrbVmvsDo31TD2Vb5ToSdm2eiX8w7-VKNtwgUpeLuxfDQForcJ0EnuwqMSXIRNo0G3AgAiGrOn7H2RHmJXbrNkFA/file\n",
            "Reusing existing connection to uc9f1d218ab21e58c69956b05746.dl.dropboxusercontent.com:443.\n",
            "HTTP request sent, awaiting response... 200 OK\n",
            "Length: 4615 (4.5K) [application/zip]\n",
            "Saving to: ‘596958_1073629_bundle_archive.zip?dl=0’\n",
            "\n",
            "596958_1073629_bund 100%[===================>]   4.51K  --.-KB/s    in 0s      \n",
            "\n",
            "2020-08-17 21:02:52 (127 MB/s) - ‘596958_1073629_bundle_archive.zip?dl=0’ saved [4615/4615]\n",
            "\n"
          ],
          "name": "stdout"
        }
      ]
    },
    {
      "cell_type": "code",
      "metadata": {
        "id": "0kKnis327hsX",
        "colab_type": "code",
        "colab": {
          "base_uri": "https://localhost:8080/",
          "height": 54
        },
        "outputId": "5cad9335-1624-4fda-9045-8c2889a6cc61"
      },
      "source": [
        "!unzip '596958_1073629_bundle_archive.zip?dl=0' -d \"data/\""
      ],
      "execution_count": 2,
      "outputs": [
        {
          "output_type": "stream",
          "text": [
            "Archive:  596958_1073629_bundle_archive.zip?dl=0\n",
            "  inflating: data/Placement_Data_Full_Class.csv  \n"
          ],
          "name": "stdout"
        }
      ]
    },
    {
      "cell_type": "code",
      "metadata": {
        "id": "40hSXAkq77H7",
        "colab_type": "code",
        "colab": {}
      },
      "source": [
        "import pandas as pd\n",
        "import numpy as np\n",
        "import matplotlib.pyplot as plt"
      ],
      "execution_count": 3,
      "outputs": []
    },
    {
      "cell_type": "code",
      "metadata": {
        "id": "bAJmuz-u8FAj",
        "colab_type": "code",
        "colab": {
          "base_uri": "https://localhost:8080/",
          "height": 163
        },
        "outputId": "b00a4db6-dd7f-4e80-cc80-ac8bc26abe96"
      },
      "source": [
        "df=pd.read_csv('/content/data/Placement_Data_Full_Class.csv')\n",
        "print(df.head())"
      ],
      "execution_count": 4,
      "outputs": [
        {
          "output_type": "stream",
          "text": [
            "   sl_no gender  ssc_p    ssc_b  ...  specialisation  mba_p      status    salary\n",
            "0      1      M  67.00   Others  ...          Mkt&HR  58.80      Placed  270000.0\n",
            "1      2      M  79.33  Central  ...         Mkt&Fin  66.28      Placed  200000.0\n",
            "2      3      M  65.00  Central  ...         Mkt&Fin  57.80      Placed  250000.0\n",
            "3      4      M  56.00  Central  ...          Mkt&HR  59.43  Not Placed       NaN\n",
            "4      5      M  85.80  Central  ...         Mkt&Fin  55.50      Placed  425000.0\n",
            "\n",
            "[5 rows x 15 columns]\n"
          ],
          "name": "stdout"
        }
      ]
    },
    {
      "cell_type": "code",
      "metadata": {
        "id": "kwr0SSZWEveS",
        "colab_type": "code",
        "colab": {}
      },
      "source": [
        "input_cols=['gender','ssc_p','ssc_b','hsc_p','hsc_b','hsc_s','degree_p','degree_t','workex','etest_p','specialisation','mba_p','salary']\n",
        "output_cols=['status']\n",
        "X=df[input_cols]\n",
        "Y=df[output_cols]"
      ],
      "execution_count": 11,
      "outputs": []
    },
    {
      "cell_type": "code",
      "metadata": {
        "id": "3B8C4pRj8Lrf",
        "colab_type": "code",
        "colab": {
          "base_uri": "https://localhost:8080/",
          "height": 90
        },
        "outputId": "7fe6df2c-7589-4335-b084-3412f1c42de7"
      },
      "source": [
        "cols=df.columns\n",
        "print(cols)"
      ],
      "execution_count": 12,
      "outputs": [
        {
          "output_type": "stream",
          "text": [
            "Index(['sl_no', 'gender', 'ssc_p', 'ssc_b', 'hsc_p', 'hsc_b', 'hsc_s',\n",
            "       'degree_p', 'degree_t', 'workex', 'etest_p', 'specialisation', 'mba_p',\n",
            "       'status', 'salary'],\n",
            "      dtype='object')\n"
          ],
          "name": "stdout"
        }
      ]
    },
    {
      "cell_type": "code",
      "metadata": {
        "id": "QzVRf9qzFoYM",
        "colab_type": "code",
        "colab": {
          "base_uri": "https://localhost:8080/",
          "height": 126
        },
        "outputId": "1990d289-96fe-4e12-b80a-84e9ba8469be"
      },
      "source": [
        "X['salary']=X['salary'].replace(np.nan,0)"
      ],
      "execution_count": 13,
      "outputs": [
        {
          "output_type": "stream",
          "text": [
            "/usr/local/lib/python3.6/dist-packages/ipykernel_launcher.py:1: SettingWithCopyWarning: \n",
            "A value is trying to be set on a copy of a slice from a DataFrame.\n",
            "Try using .loc[row_indexer,col_indexer] = value instead\n",
            "\n",
            "See the caveats in the documentation: https://pandas.pydata.org/pandas-docs/stable/user_guide/indexing.html#returning-a-view-versus-a-copy\n",
            "  \"\"\"Entry point for launching an IPython kernel.\n"
          ],
          "name": "stderr"
        }
      ]
    },
    {
      "cell_type": "code",
      "metadata": {
        "id": "uRGT8LpN8wB-",
        "colab_type": "code",
        "colab": {
          "base_uri": "https://localhost:8080/",
          "height": 74
        },
        "outputId": "8e8c01aa-0fa6-45cd-b92f-262c86a083ef"
      },
      "source": [
        "# lets do some data preprocessing :\n",
        "from sklearn.preprocessing import LabelEncoder\n",
        "le=LabelEncoder()\n",
        "Y=le.fit_transform(Y)\n",
        "from sklearn.preprocessing import OneHotEncoder\n",
        "encoder=OneHotEncoder()\n",
        "X=encoder.fit_transform(X)\n",
        "#print(X.head())"
      ],
      "execution_count": 14,
      "outputs": [
        {
          "output_type": "stream",
          "text": [
            "/usr/local/lib/python3.6/dist-packages/sklearn/preprocessing/_label.py:251: DataConversionWarning: A column-vector y was passed when a 1d array was expected. Please change the shape of y to (n_samples, ), for example using ravel().\n",
            "  y = column_or_1d(y, warn=True)\n"
          ],
          "name": "stderr"
        }
      ]
    },
    {
      "cell_type": "code",
      "metadata": {
        "id": "tMehOJcnNe7t",
        "colab_type": "code",
        "colab": {}
      },
      "source": [
        "#for col in input_cols:\n",
        "#  X[col]=le.fit_transform(X[col])"
      ],
      "execution_count": 15,
      "outputs": []
    },
    {
      "cell_type": "code",
      "metadata": {
        "id": "nLwK7MXZ9KI2",
        "colab_type": "code",
        "colab": {
          "base_uri": "https://localhost:8080/",
          "height": 35
        },
        "outputId": "461d0b36-0970-4afe-f3e3-cdb8a294dab6"
      },
      "source": [
        "# lets split our data :\n",
        "from sklearn.model_selection import train_test_split\n",
        "X_train,X_test,Y_train,Y_test=train_test_split(X,Y,test_size=0.3)\n",
        "print(X_train.shape,Y_train.shape,X_test.shape,Y_test.shape)"
      ],
      "execution_count": 16,
      "outputs": [
        {
          "output_type": "stream",
          "text": [
            "(150, 656) (150,) (65, 656) (65,)\n"
          ],
          "name": "stdout"
        }
      ]
    },
    {
      "cell_type": "code",
      "metadata": {
        "id": "CUhK6wOE9YFS",
        "colab_type": "code",
        "colab": {
          "base_uri": "https://localhost:8080/",
          "height": 108
        },
        "outputId": "4a370c74-ce8a-48fd-a055-08197fa9c860"
      },
      "source": [
        "from sklearn.linear_model import LogisticRegression\n",
        "lr=LogisticRegression()\n",
        "lr.fit(X_train,Y_train)"
      ],
      "execution_count": 17,
      "outputs": [
        {
          "output_type": "execute_result",
          "data": {
            "text/plain": [
              "LogisticRegression(C=1.0, class_weight=None, dual=False, fit_intercept=True,\n",
              "                   intercept_scaling=1, l1_ratio=None, max_iter=100,\n",
              "                   multi_class='auto', n_jobs=None, penalty='l2',\n",
              "                   random_state=None, solver='lbfgs', tol=0.0001, verbose=0,\n",
              "                   warm_start=False)"
            ]
          },
          "metadata": {
            "tags": []
          },
          "execution_count": 17
        }
      ]
    },
    {
      "cell_type": "code",
      "metadata": {
        "id": "F7gxk4bW9pIL",
        "colab_type": "code",
        "colab": {
          "base_uri": "https://localhost:8080/",
          "height": 35
        },
        "outputId": "14e42c25-6d8a-4df7-d222-1b7467cb19f5"
      },
      "source": [
        "lr.score(X_test,Y_test)"
      ],
      "execution_count": 18,
      "outputs": [
        {
          "output_type": "execute_result",
          "data": {
            "text/plain": [
              "1.0"
            ]
          },
          "metadata": {
            "tags": []
          },
          "execution_count": 18
        }
      ]
    },
    {
      "cell_type": "code",
      "metadata": {
        "id": "fA2wykmc_cBp",
        "colab_type": "code",
        "colab": {}
      },
      "source": [
        "# lets check on RandomForestClassifier :\n",
        "from sklearn.ensemble import RandomForestClassifier\n",
        "rf=RandomForestClassifier(n_estimators=50,max_depth=5,random_state=2,criterion='gini')"
      ],
      "execution_count": 19,
      "outputs": []
    },
    {
      "cell_type": "code",
      "metadata": {
        "id": "H-yZv9ns_FBk",
        "colab_type": "code",
        "colab": {
          "base_uri": "https://localhost:8080/",
          "height": 163
        },
        "outputId": "46582855-f23a-4794-b732-d2421608679e"
      },
      "source": [
        "rf.fit(X_train,Y_train)"
      ],
      "execution_count": 20,
      "outputs": [
        {
          "output_type": "execute_result",
          "data": {
            "text/plain": [
              "RandomForestClassifier(bootstrap=True, ccp_alpha=0.0, class_weight=None,\n",
              "                       criterion='gini', max_depth=5, max_features='auto',\n",
              "                       max_leaf_nodes=None, max_samples=None,\n",
              "                       min_impurity_decrease=0.0, min_impurity_split=None,\n",
              "                       min_samples_leaf=1, min_samples_split=2,\n",
              "                       min_weight_fraction_leaf=0.0, n_estimators=50,\n",
              "                       n_jobs=None, oob_score=False, random_state=2, verbose=0,\n",
              "                       warm_start=False)"
            ]
          },
          "metadata": {
            "tags": []
          },
          "execution_count": 20
        }
      ]
    },
    {
      "cell_type": "code",
      "metadata": {
        "id": "LFh8ocEB_d1L",
        "colab_type": "code",
        "colab": {
          "base_uri": "https://localhost:8080/",
          "height": 35
        },
        "outputId": "a7fa5f25-60dd-40f8-dc28-df75cccf4d4b"
      },
      "source": [
        "rf.score(X_test,Y_test)"
      ],
      "execution_count": 21,
      "outputs": [
        {
          "output_type": "execute_result",
          "data": {
            "text/plain": [
              "0.6923076923076923"
            ]
          },
          "metadata": {
            "tags": []
          },
          "execution_count": 21
        }
      ]
    },
    {
      "cell_type": "code",
      "metadata": {
        "id": "-KHxEzSv_3Cv",
        "colab_type": "code",
        "colab": {}
      },
      "source": [
        "from sklearn.model_selection import cross_val_score"
      ],
      "execution_count": 22,
      "outputs": []
    },
    {
      "cell_type": "code",
      "metadata": {
        "id": "pw1TUyP___T-",
        "colab_type": "code",
        "colab": {}
      },
      "source": [
        "acc=[]\n",
        "for i in range(1,50):\n",
        "  accuracy=cross_val_score(RandomForestClassifier(n_estimators=i,criterion='entropy',max_depth=5,random_state=5),X_train,Y_train,cv=5).mean()\n",
        "  acc.append(accuracy)"
      ],
      "execution_count": 23,
      "outputs": []
    },
    {
      "cell_type": "code",
      "metadata": {
        "id": "8gtMNMnAJwl-",
        "colab_type": "code",
        "colab": {
          "base_uri": "https://localhost:8080/",
          "height": 35
        },
        "outputId": "a60ddde2-afce-45c1-8d71-7d330b31cf0c"
      },
      "source": [
        "# 6 estimators is optimal and we are getting highest acuracy\n",
        "print(np.argmax(acc))"
      ],
      "execution_count": 24,
      "outputs": [
        {
          "output_type": "stream",
          "text": [
            "13\n"
          ],
          "name": "stdout"
        }
      ]
    },
    {
      "cell_type": "code",
      "metadata": {
        "id": "h5YpeFp0AYt1",
        "colab_type": "code",
        "colab": {
          "base_uri": "https://localhost:8080/",
          "height": 163
        },
        "outputId": "1a27bf0c-1c7c-4c2d-af35-65e57514bff8"
      },
      "source": [
        "rf=RandomForestClassifier(n_estimators=13,criterion='entropy',max_depth=5,random_state=10)\n",
        "rf.fit(X_train,Y_train)"
      ],
      "execution_count": 25,
      "outputs": [
        {
          "output_type": "execute_result",
          "data": {
            "text/plain": [
              "RandomForestClassifier(bootstrap=True, ccp_alpha=0.0, class_weight=None,\n",
              "                       criterion='entropy', max_depth=5, max_features='auto',\n",
              "                       max_leaf_nodes=None, max_samples=None,\n",
              "                       min_impurity_decrease=0.0, min_impurity_split=None,\n",
              "                       min_samples_leaf=1, min_samples_split=2,\n",
              "                       min_weight_fraction_leaf=0.0, n_estimators=13,\n",
              "                       n_jobs=None, oob_score=False, random_state=10, verbose=0,\n",
              "                       warm_start=False)"
            ]
          },
          "metadata": {
            "tags": []
          },
          "execution_count": 25
        }
      ]
    },
    {
      "cell_type": "code",
      "metadata": {
        "id": "R05lTMw0AeCV",
        "colab_type": "code",
        "colab": {
          "base_uri": "https://localhost:8080/",
          "height": 35
        },
        "outputId": "39709d5d-e5e2-4d1a-b3e9-2140bd0996a0"
      },
      "source": [
        "rf.score(X_test,Y_test)"
      ],
      "execution_count": 26,
      "outputs": [
        {
          "output_type": "execute_result",
          "data": {
            "text/plain": [
              "0.7692307692307693"
            ]
          },
          "metadata": {
            "tags": []
          },
          "execution_count": 26
        }
      ]
    },
    {
      "cell_type": "code",
      "metadata": {
        "id": "H8tz8ZrAAfu2",
        "colab_type": "code",
        "colab": {}
      },
      "source": [
        "from sklearn.tree import DecisionTreeClassifier\n",
        "dt=DecisionTreeClassifier(criterion='gini',max_depth=10,random_state=4)"
      ],
      "execution_count": 27,
      "outputs": []
    },
    {
      "cell_type": "code",
      "metadata": {
        "id": "d6FBaB30A3IV",
        "colab_type": "code",
        "colab": {
          "base_uri": "https://localhost:8080/",
          "height": 126
        },
        "outputId": "1f9118c2-67de-4207-c6f0-6e8a07f33b44"
      },
      "source": [
        "dt.fit(X_train,Y_train)"
      ],
      "execution_count": 28,
      "outputs": [
        {
          "output_type": "execute_result",
          "data": {
            "text/plain": [
              "DecisionTreeClassifier(ccp_alpha=0.0, class_weight=None, criterion='gini',\n",
              "                       max_depth=10, max_features=None, max_leaf_nodes=None,\n",
              "                       min_impurity_decrease=0.0, min_impurity_split=None,\n",
              "                       min_samples_leaf=1, min_samples_split=2,\n",
              "                       min_weight_fraction_leaf=0.0, presort='deprecated',\n",
              "                       random_state=4, splitter='best')"
            ]
          },
          "metadata": {
            "tags": []
          },
          "execution_count": 28
        }
      ]
    },
    {
      "cell_type": "code",
      "metadata": {
        "id": "WH1fgblkCJJc",
        "colab_type": "code",
        "colab": {
          "base_uri": "https://localhost:8080/",
          "height": 35
        },
        "outputId": "3e48e26a-592e-442a-d705-ee9c65d11ae8"
      },
      "source": [
        "dt.score(X_test,Y_test)"
      ],
      "execution_count": 29,
      "outputs": [
        {
          "output_type": "execute_result",
          "data": {
            "text/plain": [
              "1.0"
            ]
          },
          "metadata": {
            "tags": []
          },
          "execution_count": 29
        }
      ]
    },
    {
      "cell_type": "code",
      "metadata": {
        "id": "Oiq-YYKjA8El",
        "colab_type": "code",
        "colab": {}
      },
      "source": [
        "from sklearn.naive_bayes import GaussianNB,MultinomialNB"
      ],
      "execution_count": 30,
      "outputs": []
    },
    {
      "cell_type": "code",
      "metadata": {
        "id": "P2Eyp3-JBFtJ",
        "colab_type": "code",
        "colab": {}
      },
      "source": [
        "gnb=GaussianNB()"
      ],
      "execution_count": 31,
      "outputs": []
    },
    {
      "cell_type": "code",
      "metadata": {
        "id": "gZtalmUnBe6T",
        "colab_type": "code",
        "colab": {
          "base_uri": "https://localhost:8080/",
          "height": 35
        },
        "outputId": "6de3a717-a3be-4dc8-da2e-4317e87fd7c1"
      },
      "source": [
        "gnb.fit(X_train.toarray(),Y_train)"
      ],
      "execution_count": 33,
      "outputs": [
        {
          "output_type": "execute_result",
          "data": {
            "text/plain": [
              "GaussianNB(priors=None, var_smoothing=1e-09)"
            ]
          },
          "metadata": {
            "tags": []
          },
          "execution_count": 33
        }
      ]
    },
    {
      "cell_type": "code",
      "metadata": {
        "id": "4HHTm6f_B6WB",
        "colab_type": "code",
        "colab": {
          "base_uri": "https://localhost:8080/",
          "height": 35
        },
        "outputId": "325db7ad-45bf-48a7-d323-628f8e9976a0"
      },
      "source": [
        "gnb.score(X_test.toarray(),Y_test)"
      ],
      "execution_count": 34,
      "outputs": [
        {
          "output_type": "execute_result",
          "data": {
            "text/plain": [
              "0.9230769230769231"
            ]
          },
          "metadata": {
            "tags": []
          },
          "execution_count": 34
        }
      ]
    },
    {
      "cell_type": "code",
      "metadata": {
        "id": "5r1btW0ACAmE",
        "colab_type": "code",
        "colab": {
          "base_uri": "https://localhost:8080/",
          "height": 35
        },
        "outputId": "011f0d89-15dc-4bf7-8454-d0415f85802f"
      },
      "source": [
        "mnb=MultinomialNB()\n",
        "mnb.fit(X_train,Y_train)\n",
        "mnb.score(X_test,Y_test)"
      ],
      "execution_count": 35,
      "outputs": [
        {
          "output_type": "execute_result",
          "data": {
            "text/plain": [
              "0.8923076923076924"
            ]
          },
          "metadata": {
            "tags": []
          },
          "execution_count": 35
        }
      ]
    },
    {
      "cell_type": "code",
      "metadata": {
        "id": "68mGHP_9MG16",
        "colab_type": "code",
        "colab": {
          "base_uri": "https://localhost:8080/",
          "height": 35
        },
        "outputId": "fb04fb5d-e7dd-46ee-e25d-a2982922c47c"
      },
      "source": [
        "from sklearn.neighbors import KNeighborsClassifier\n",
        "knb=KNeighborsClassifier(n_neighbors=25)\n",
        "knb.fit(X_train,Y_train)\n",
        "knb.score(X_test,Y_test)"
      ],
      "execution_count": 37,
      "outputs": [
        {
          "output_type": "execute_result",
          "data": {
            "text/plain": [
              "0.8307692307692308"
            ]
          },
          "metadata": {
            "tags": []
          },
          "execution_count": 37
        }
      ]
    },
    {
      "cell_type": "code",
      "metadata": {
        "id": "YR13qvwxMbqZ",
        "colab_type": "code",
        "colab": {}
      },
      "source": [
        "acc_list=[]\n",
        "for i in range(1,50):\n",
        "  acc=KNeighborsClassifier(n_neighbors=i).fit(X_train,Y_train).score(X_test,Y_test)\n",
        "  acc_list.append(acc)"
      ],
      "execution_count": 38,
      "outputs": []
    },
    {
      "cell_type": "code",
      "metadata": {
        "id": "zGUBQpF7PjYQ",
        "colab_type": "code",
        "colab": {
          "base_uri": "https://localhost:8080/",
          "height": 35
        },
        "outputId": "dcf3fb27-695d-45e6-e1dc-b2ad52eacdc0"
      },
      "source": [
        "print(np.argmax(acc_list))"
      ],
      "execution_count": 39,
      "outputs": [
        {
          "output_type": "stream",
          "text": [
            "5\n"
          ],
          "name": "stdout"
        }
      ]
    },
    {
      "cell_type": "code",
      "metadata": {
        "id": "9TyqxF7ZPlxp",
        "colab_type": "code",
        "colab": {
          "base_uri": "https://localhost:8080/",
          "height": 55
        },
        "outputId": "ad36bc06-ee27-401f-9fe3-029caa463c1c"
      },
      "source": [
        "print(acc_list)"
      ],
      "execution_count": 40,
      "outputs": [
        {
          "output_type": "stream",
          "text": [
            "[0.7846153846153846, 0.8153846153846154, 0.8307692307692308, 0.8615384615384616, 0.9076923076923077, 0.9384615384615385, 0.8923076923076924, 0.8923076923076924, 0.9076923076923077, 0.8923076923076924, 0.9230769230769231, 0.9076923076923077, 0.8769230769230769, 0.8923076923076924, 0.9230769230769231, 0.9230769230769231, 0.9230769230769231, 0.9076923076923077, 0.8769230769230769, 0.9076923076923077, 0.8769230769230769, 0.8615384615384616, 0.8615384615384616, 0.8461538461538461, 0.8307692307692308, 0.8923076923076924, 0.8461538461538461, 0.8923076923076924, 0.8307692307692308, 0.8461538461538461, 0.8153846153846154, 0.8461538461538461, 0.8307692307692308, 0.8461538461538461, 0.8, 0.8461538461538461, 0.8153846153846154, 0.8153846153846154, 0.8153846153846154, 0.8307692307692308, 0.8153846153846154, 0.8153846153846154, 0.8, 0.8, 0.7846153846153846, 0.8, 0.7538461538461538, 0.7846153846153846, 0.7384615384615385]\n"
          ],
          "name": "stdout"
        }
      ]
    },
    {
      "cell_type": "code",
      "metadata": {
        "id": "zdYnb2-aPoXx",
        "colab_type": "code",
        "colab": {
          "base_uri": "https://localhost:8080/",
          "height": 35
        },
        "outputId": "6c7d7042-d9df-4f2c-9b81-7ff0bf30885e"
      },
      "source": [
        "knb=KNeighborsClassifier(n_neighbors=6)\n",
        "knb.fit(X_train,Y_train)\n",
        "knb.score(X_test,Y_test)"
      ],
      "execution_count": 41,
      "outputs": [
        {
          "output_type": "execute_result",
          "data": {
            "text/plain": [
              "0.9384615384615385"
            ]
          },
          "metadata": {
            "tags": []
          },
          "execution_count": 41
        }
      ]
    },
    {
      "cell_type": "code",
      "metadata": {
        "id": "nqD5a5K5Pwq5",
        "colab_type": "code",
        "colab": {}
      },
      "source": [
        "# Although logistic rgression is giving highest accuracy of 100% which is ofcourse a case of overfitting, so K nearest neighbouring is giving highest accuracy of 93% after that "
      ],
      "execution_count": 42,
      "outputs": []
    },
    {
      "cell_type": "code",
      "metadata": {
        "id": "VkfP3g9lQCqg",
        "colab_type": "code",
        "colab": {}
      },
      "source": [
        ""
      ],
      "execution_count": null,
      "outputs": []
    }
  ]
}